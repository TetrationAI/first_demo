{
 "cells": [
  {
   "cell_type": "markdown",
   "metadata": {},
   "source": [
    "# Generator Candidates"
   ]
  },
  {
   "cell_type": "markdown",
   "metadata": {},
   "source": [
    "inspiration: https://www.quora.com/Is-there-a-free-pre-trained-AI-image-generator-that-I-can-find-and-use "
   ]
  },
  {
   "cell_type": "markdown",
   "metadata": {},
   "source": [
    "Pre-trained Generators: \n",
    "- https://github.com/taki0112/BigGAN-Tensorflow. BigGAN\n",
    "- https://github.com/NVlabs/stylegan. Stylegan. Also accessible via NVIDIA website? \n",
    "- Generate fake flowers: https://github.com/DCtheTall/flowerGAN \n",
    "- https://github.com/RichardObi/medigan MediGAN\n",
    "- https://github.com/IyatomiLab/LeafGAN Generates Le\n",
    "- https://github.com/DCtheTall/flowerGAN FlowerGAN\n",
    "- StyleGAN https://github.com/NVlabs/stylegan\n",
    "- LeafGAN https://github.com/IyatomiLab/LeafGAN/tree/master/LFLSeg \n"
   ]
  },
  {
   "cell_type": "markdown",
   "metadata": {},
   "source": [
    "ord - textmodeller: \n",
    "- Stable-Diffusion, gratis. \n",
    "- CLIP: https://github.com/openai/CLIP. gratis\n",
    "- DALL-E-2: https://openai.com/dall-e-2. gratis"
   ]
  },
  {
   "cell_type": "code",
   "execution_count": 2,
   "metadata": {},
   "outputs": [],
   "source": [
    "#Post generator candidates here\n"
   ]
  }
 ],
 "metadata": {
  "kernelspec": {
   "display_name": "Python 3",
   "language": "python",
   "name": "python3"
  },
  "language_info": {
   "codemirror_mode": {
    "name": "ipython",
    "version": 3
   },
   "file_extension": ".py",
   "mimetype": "text/x-python",
   "name": "python",
   "nbconvert_exporter": "python",
   "pygments_lexer": "ipython3",
   "version": "3.11.4"
  }
 },
 "nbformat": 4,
 "nbformat_minor": 2
}
